{
 "cells": [
  {
   "cell_type": "code",
   "execution_count": 1,
   "id": "25ff5454",
   "metadata": {},
   "outputs": [],
   "source": [
    "# train_model.py\n",
    "import pandas as pd\n",
    "import numpy as np\n",
    "import matplotlib.pyplot as plt\n",
    "import seaborn as sns\n",
    "from sklearn.model_selection import train_test_split\n",
    "from sklearn.ensemble import RandomForestClassifier\n",
    "from sklearn.pipeline import Pipeline\n",
    "from sklearn.compose import ColumnTransformer\n",
    "from sklearn.impute import SimpleImputer\n",
    "from sklearn.preprocessing import OneHotEncoder, StandardScaler\n",
    "from sklearn.metrics import accuracy_score, classification_report, confusion_matrix\n",
    "import joblib\n",
    "import os\n",
    "\n",
    "# ------------------------------------------------------\n",
    "# CONFIGURATION\n",
    "# ------------------------------------------------------\n",
    "CSV_PATH = \"Financial_inclusion_dataset.csv\"  # dataset file name\n",
    "TARGET_COL = \"bank_account\"                   # change if target differs\n",
    "MODEL_OUT = \"fi_pipeline.joblib\"\n",
    "SAMPLE_OUT = \"sample_input.csv\"\n",
    "RANDOM_STATE = 42\n",
    "TEST_SIZE = 0.2\n",
    "# ------------------------------------------------------\n",
    "\n",
    "def main():\n",
    "    # 1. Load dataset\n",
    "    df = pd.read_csv(CSV_PATH)\n",
    "    print(\"✅ Loaded dataset:\", df.shape)\n",
    "    print(df.head())\n",
    "\n",
    "    # 2. Check missing values and data types\n",
    "    print(\"\\n--- Dataset Info ---\")\n",
    "    print(df.info())\n",
    "\n",
    "    # 3. Drop duplicates\n",
    "    before = len(df)\n",
    "    df.drop_duplicates(inplace=True)\n",
    "    print(f\"Dropped {before - len(df)} duplicate rows.\")\n",
    "\n",
    "    # 4. Ensure target column exists\n",
    "    if TARGET_COL not in df.columns:\n",
    "        raise ValueError(f\"Target column '{TARGET_COL}' not found! Please update TARGET_COL.\")\n",
    "\n",
    "    # 5. Split features and target\n",
    "    X = df.drop(columns=[TARGET_COL])\n",
    "    y = df[TARGET_COL]\n",
    "\n",
    "    # Encode target if it’s categorical (e.g. “Yes”/“No”)\n",
    "    if y.dtype == 'object':\n",
    "        y = y.map({'Yes': 1, 'No': 0}).fillna(0).astype(int)\n",
    "\n",
    "    # 6. Detect numeric and categorical columns\n",
    "    numeric_cols = X.select_dtypes(include=['int64', 'float64']).columns.tolist()\n",
    "    categorical_cols = X.select_dtypes(exclude=['int64', 'float64']).columns.tolist()\n",
    "    print(f\"Numeric columns: {len(numeric_cols)} | Categorical columns: {len(categorical_cols)}\")\n",
    "\n",
    "    # 7. Preprocessing pipelines\n",
    "    numeric_pipeline = Pipeline([\n",
    "        ('imputer', SimpleImputer(strategy='median')),\n",
    "        ('scaler', StandardScaler())\n",
    "    ])\n",
    "\n",
    "    categorical_pipeline = Pipeline([\n",
    "        ('imputer', SimpleImputer(strategy='most_frequent')),\n",
    "        ('encoder', OneHotEncoder(handle_unknown='ignore', sparse=False))\n",
    "    ])\n",
    "\n",
    "    preprocessor = ColumnTransformer([\n",
    "        ('num', numeric_pipeline, numeric_cols),\n",
    "        ('cat', categorical_pipeline, categorical_cols)\n",
    "    ])\n",
    "\n",
    "    # 8. Full model pipeline\n",
    "    model = Pipeline([\n",
    "        ('preprocessor', preprocessor),\n",
    "        ('classifier', RandomForestClassifier(\n",
    "            n_estimators=200,\n",
    "            random_state=RANDOM_STATE,\n",
    "            n_jobs=-1\n",
    "        ))\n",
    "    ])\n",
    "\n",
    "    # 9. Split data\n",
    "    X_train, X_test, y_train, y_test = train_test_split(\n",
    "        X, y, test_size=TEST_SIZE, random_state=RANDOM_STATE, stratify=y\n",
    "    )\n",
    "\n",
    "    # 10. Train model\n",
    "    print(\"\\n🔄 Training model ...\")\n",
    "    model.fit(X_train, y_train)\n",
    "    print(\"✅ Model training complete.\")\n",
    "\n",
    "    # 11. Evaluate\n",
    "    preds = model.predict(X_test)\n",
    "    acc = accuracy_score(y_test, preds)\n",
    "    print(\"\\n--- Evaluation ---\")\n",
    "    print(f\"Accuracy: {acc:.4f}\")\n",
    "    print(classification_report(y_test, preds))\n",
    "\n",
    "    cm = confusion_matrix(y_test, preds)\n",
    "    sns.heatmap(cm, annot=True, fmt='d', cmap='Blues')\n",
    "    plt.title(f\"Confusion Matrix (Accuracy = {acc:.3f})\")\n",
    "    plt.xlabel(\"Predicted\")\n",
    "    plt.ylabel(\"Actual\")\n",
    "    plt.tight_layout()\n",
    "    plt.savefig(\"confusion_matrix.png\")\n",
    "    print(\"📊 Saved confusion_matrix.png\")\n",
    "\n",
    "    \n"
   ]
  },
  {
   "cell_type": "code",
   "execution_count": 7,
   "id": "ea5ff055",
   "metadata": {},
   "outputs": [
    {
     "name": "stderr",
     "output_type": "stream",
     "text": [
      "python: can't open file 'c:\\\\Users\\\\Rafimbi\\\\Downloads\\\\RydaMtaani\\\\train_model.py': [Errno 2] No such file or directory\n"
     ]
    }
   ],
   "source": [
    "!python train_model.py\n",
    "\n"
   ]
  },
  {
   "cell_type": "code",
   "execution_count": 13,
   "id": "3ea9d085",
   "metadata": {},
   "outputs": [
    {
     "name": "stdout",
     "output_type": "stream",
     "text": [
      "Requirement already satisfied: pandas in c:\\users\\rafimbi\\appdata\\local\\programs\\python\\python313\\lib\\site-packages (2.3.1)\n",
      "Requirement already satisfied: numpy in c:\\users\\rafimbi\\appdata\\local\\programs\\python\\python313\\lib\\site-packages (2.1.3)\n",
      "Requirement already satisfied: matplotlib in c:\\users\\rafimbi\\appdata\\local\\programs\\python\\python313\\lib\\site-packages (3.10.0)\n",
      "Requirement already satisfied: seaborn in c:\\users\\rafimbi\\appdata\\local\\programs\\python\\python313\\lib\\site-packages (0.13.2)\n",
      "Requirement already satisfied: scikit-learn in c:\\users\\rafimbi\\appdata\\local\\programs\\python\\python313\\lib\\site-packages (1.7.1)\n",
      "Requirement already satisfied: ydata-profiling in c:\\users\\rafimbi\\appdata\\local\\programs\\python\\python313\\lib\\site-packages (4.17.0)\n",
      "Requirement already satisfied: streamlit in c:\\users\\rafimbi\\appdata\\local\\programs\\python\\python313\\lib\\site-packages (1.50.0)\n",
      "Requirement already satisfied: joblib in c:\\users\\rafimbi\\appdata\\local\\programs\\python\\python313\\lib\\site-packages (1.5.1)\n",
      "Requirement already satisfied: python-dateutil>=2.8.2 in c:\\users\\rafimbi\\appdata\\roaming\\python\\python313\\site-packages (from pandas) (2.9.0.post0)\n",
      "Requirement already satisfied: pytz>=2020.1 in c:\\users\\rafimbi\\appdata\\local\\programs\\python\\python313\\lib\\site-packages (from pandas) (2025.2)\n",
      "Requirement already satisfied: tzdata>=2022.7 in c:\\users\\rafimbi\\appdata\\local\\programs\\python\\python313\\lib\\site-packages (from pandas) (2025.2)\n",
      "Requirement already satisfied: contourpy>=1.0.1 in c:\\users\\rafimbi\\appdata\\local\\programs\\python\\python313\\lib\\site-packages (from matplotlib) (1.3.3)\n",
      "Requirement already satisfied: cycler>=0.10 in c:\\users\\rafimbi\\appdata\\local\\programs\\python\\python313\\lib\\site-packages (from matplotlib) (0.12.1)\n",
      "Requirement already satisfied: fonttools>=4.22.0 in c:\\users\\rafimbi\\appdata\\local\\programs\\python\\python313\\lib\\site-packages (from matplotlib) (4.59.0)\n",
      "Requirement already satisfied: kiwisolver>=1.3.1 in c:\\users\\rafimbi\\appdata\\local\\programs\\python\\python313\\lib\\site-packages (from matplotlib) (1.4.8)\n",
      "Requirement already satisfied: packaging>=20.0 in c:\\users\\rafimbi\\appdata\\roaming\\python\\python313\\site-packages (from matplotlib) (25.0)\n",
      "Requirement already satisfied: pillow>=8 in c:\\users\\rafimbi\\appdata\\local\\programs\\python\\python313\\lib\\site-packages (from matplotlib) (11.3.0)\n",
      "Requirement already satisfied: pyparsing>=2.3.1 in c:\\users\\rafimbi\\appdata\\local\\programs\\python\\python313\\lib\\site-packages (from matplotlib) (3.2.3)\n",
      "Requirement already satisfied: scipy>=1.8.0 in c:\\users\\rafimbi\\appdata\\local\\programs\\python\\python313\\lib\\site-packages (from scikit-learn) (1.15.3)\n",
      "Requirement already satisfied: threadpoolctl>=3.1.0 in c:\\users\\rafimbi\\appdata\\local\\programs\\python\\python313\\lib\\site-packages (from scikit-learn) (3.6.0)\n",
      "Requirement already satisfied: pydantic>=2 in c:\\users\\rafimbi\\appdata\\local\\programs\\python\\python313\\lib\\site-packages (from ydata-profiling) (2.12.1)\n",
      "Requirement already satisfied: PyYAML<6.1,>=5.0.0 in c:\\users\\rafimbi\\appdata\\local\\programs\\python\\python313\\lib\\site-packages (from ydata-profiling) (6.0.3)\n",
      "Requirement already satisfied: jinja2<3.2,>=2.11.1 in c:\\users\\rafimbi\\appdata\\local\\programs\\python\\python313\\lib\\site-packages (from ydata-profiling) (3.1.6)\n",
      "Requirement already satisfied: visions<0.8.2,>=0.7.5 in c:\\users\\rafimbi\\appdata\\local\\programs\\python\\python313\\lib\\site-packages (from visions[type_image_path]<0.8.2,>=0.7.5->ydata-profiling) (0.8.1)\n",
      "Requirement already satisfied: minify-html>=0.15.0 in c:\\users\\rafimbi\\appdata\\local\\programs\\python\\python313\\lib\\site-packages (from ydata-profiling) (0.16.4)\n",
      "Requirement already satisfied: filetype>=1.0.0 in c:\\users\\rafimbi\\appdata\\local\\programs\\python\\python313\\lib\\site-packages (from ydata-profiling) (1.2.0)\n",
      "Requirement already satisfied: phik<0.13,>=0.11.1 in c:\\users\\rafimbi\\appdata\\local\\programs\\python\\python313\\lib\\site-packages (from ydata-profiling) (0.12.5)\n",
      "Requirement already satisfied: requests<3,>=2.24.0 in c:\\users\\rafimbi\\appdata\\local\\programs\\python\\python313\\lib\\site-packages (from ydata-profiling) (2.32.5)\n",
      "Requirement already satisfied: tqdm<5,>=4.48.2 in c:\\users\\rafimbi\\appdata\\local\\programs\\python\\python313\\lib\\site-packages (from ydata-profiling) (4.67.1)\n",
      "Requirement already satisfied: multimethod<2,>=1.4 in c:\\users\\rafimbi\\appdata\\local\\programs\\python\\python313\\lib\\site-packages (from ydata-profiling) (1.12)\n",
      "Requirement already satisfied: statsmodels<1,>=0.13.2 in c:\\users\\rafimbi\\appdata\\local\\programs\\python\\python313\\lib\\site-packages (from ydata-profiling) (0.14.5)\n",
      "Requirement already satisfied: typeguard<5,>=3 in c:\\users\\rafimbi\\appdata\\local\\programs\\python\\python313\\lib\\site-packages (from ydata-profiling) (4.4.4)\n",
      "Requirement already satisfied: imagehash==4.3.1 in c:\\users\\rafimbi\\appdata\\local\\programs\\python\\python313\\lib\\site-packages (from ydata-profiling) (4.3.1)\n",
      "Requirement already satisfied: wordcloud>=1.9.3 in c:\\users\\rafimbi\\appdata\\local\\programs\\python\\python313\\lib\\site-packages (from ydata-profiling) (1.9.4)\n",
      "Requirement already satisfied: dacite>=1.8 in c:\\users\\rafimbi\\appdata\\local\\programs\\python\\python313\\lib\\site-packages (from ydata-profiling) (1.9.2)\n",
      "Requirement already satisfied: numba<=0.61,>=0.56.0 in c:\\users\\rafimbi\\appdata\\local\\programs\\python\\python313\\lib\\site-packages (from ydata-profiling) (0.61.0)\n",
      "Requirement already satisfied: PyWavelets in c:\\users\\rafimbi\\appdata\\local\\programs\\python\\python313\\lib\\site-packages (from imagehash==4.3.1->ydata-profiling) (1.9.0)\n",
      "Requirement already satisfied: MarkupSafe>=2.0 in c:\\users\\rafimbi\\appdata\\local\\programs\\python\\python313\\lib\\site-packages (from jinja2<3.2,>=2.11.1->ydata-profiling) (3.0.3)\n",
      "Requirement already satisfied: llvmlite<0.45,>=0.44.0dev0 in c:\\users\\rafimbi\\appdata\\local\\programs\\python\\python313\\lib\\site-packages (from numba<=0.61,>=0.56.0->ydata-profiling) (0.44.0)\n",
      "Requirement already satisfied: charset_normalizer<4,>=2 in c:\\users\\rafimbi\\appdata\\local\\programs\\python\\python313\\lib\\site-packages (from requests<3,>=2.24.0->ydata-profiling) (3.4.4)\n",
      "Requirement already satisfied: idna<4,>=2.5 in c:\\users\\rafimbi\\appdata\\local\\programs\\python\\python313\\lib\\site-packages (from requests<3,>=2.24.0->ydata-profiling) (3.11)\n",
      "Requirement already satisfied: urllib3<3,>=1.21.1 in c:\\users\\rafimbi\\appdata\\local\\programs\\python\\python313\\lib\\site-packages (from requests<3,>=2.24.0->ydata-profiling) (2.5.0)\n",
      "Requirement already satisfied: certifi>=2017.4.17 in c:\\users\\rafimbi\\appdata\\local\\programs\\python\\python313\\lib\\site-packages (from requests<3,>=2.24.0->ydata-profiling) (2025.10.5)\n",
      "Requirement already satisfied: patsy>=0.5.6 in c:\\users\\rafimbi\\appdata\\local\\programs\\python\\python313\\lib\\site-packages (from statsmodels<1,>=0.13.2->ydata-profiling) (1.0.1)\n",
      "Requirement already satisfied: colorama in c:\\users\\rafimbi\\appdata\\roaming\\python\\python313\\site-packages (from tqdm<5,>=4.48.2->ydata-profiling) (0.4.6)\n",
      "Requirement already satisfied: typing_extensions>=4.14.0 in c:\\users\\rafimbi\\appdata\\local\\programs\\python\\python313\\lib\\site-packages (from typeguard<5,>=3->ydata-profiling) (4.14.1)\n",
      "Requirement already satisfied: attrs>=19.3.0 in c:\\users\\rafimbi\\appdata\\local\\programs\\python\\python313\\lib\\site-packages (from visions<0.8.2,>=0.7.5->visions[type_image_path]<0.8.2,>=0.7.5->ydata-profiling) (25.4.0)\n",
      "Requirement already satisfied: networkx>=2.4 in c:\\users\\rafimbi\\appdata\\local\\programs\\python\\python313\\lib\\site-packages (from visions<0.8.2,>=0.7.5->visions[type_image_path]<0.8.2,>=0.7.5->ydata-profiling) (3.5)\n",
      "Requirement already satisfied: puremagic in c:\\users\\rafimbi\\appdata\\local\\programs\\python\\python313\\lib\\site-packages (from visions<0.8.2,>=0.7.5->visions[type_image_path]<0.8.2,>=0.7.5->ydata-profiling) (1.30)\n",
      "Requirement already satisfied: altair!=5.4.0,!=5.4.1,<6,>=4.0 in c:\\users\\rafimbi\\appdata\\local\\programs\\python\\python313\\lib\\site-packages (from streamlit) (5.5.0)\n",
      "Requirement already satisfied: blinker<2,>=1.5.0 in c:\\users\\rafimbi\\appdata\\local\\programs\\python\\python313\\lib\\site-packages (from streamlit) (1.9.0)\n",
      "Requirement already satisfied: cachetools<7,>=4.0 in c:\\users\\rafimbi\\appdata\\local\\programs\\python\\python313\\lib\\site-packages (from streamlit) (6.2.1)\n",
      "Requirement already satisfied: click<9,>=7.0 in c:\\users\\rafimbi\\appdata\\local\\programs\\python\\python313\\lib\\site-packages (from streamlit) (8.3.0)\n",
      "Requirement already satisfied: protobuf<7,>=3.20 in c:\\users\\rafimbi\\appdata\\local\\programs\\python\\python313\\lib\\site-packages (from streamlit) (6.32.1)\n",
      "Requirement already satisfied: pyarrow>=7.0 in c:\\users\\rafimbi\\appdata\\local\\programs\\python\\python313\\lib\\site-packages (from streamlit) (21.0.0)\n",
      "Requirement already satisfied: tenacity<10,>=8.1.0 in c:\\users\\rafimbi\\appdata\\local\\programs\\python\\python313\\lib\\site-packages (from streamlit) (9.1.2)\n",
      "Requirement already satisfied: toml<2,>=0.10.1 in c:\\users\\rafimbi\\appdata\\local\\programs\\python\\python313\\lib\\site-packages (from streamlit) (0.10.2)\n",
      "Requirement already satisfied: watchdog<7,>=2.1.5 in c:\\users\\rafimbi\\appdata\\local\\programs\\python\\python313\\lib\\site-packages (from streamlit) (6.0.0)\n",
      "Requirement already satisfied: gitpython!=3.1.19,<4,>=3.0.7 in c:\\users\\rafimbi\\appdata\\local\\programs\\python\\python313\\lib\\site-packages (from streamlit) (3.1.45)\n",
      "Requirement already satisfied: pydeck<1,>=0.8.0b4 in c:\\users\\rafimbi\\appdata\\local\\programs\\python\\python313\\lib\\site-packages (from streamlit) (0.9.1)\n",
      "Requirement already satisfied: tornado!=6.5.0,<7,>=6.0.3 in c:\\users\\rafimbi\\appdata\\roaming\\python\\python313\\site-packages (from streamlit) (6.4.2)\n",
      "Requirement already satisfied: jsonschema>=3.0 in c:\\users\\rafimbi\\appdata\\local\\programs\\python\\python313\\lib\\site-packages (from altair!=5.4.0,!=5.4.1,<6,>=4.0->streamlit) (4.25.1)\n",
      "Requirement already satisfied: narwhals>=1.14.2 in c:\\users\\rafimbi\\appdata\\local\\programs\\python\\python313\\lib\\site-packages (from altair!=5.4.0,!=5.4.1,<6,>=4.0->streamlit) (1.41.0)\n",
      "Requirement already satisfied: gitdb<5,>=4.0.1 in c:\\users\\rafimbi\\appdata\\local\\programs\\python\\python313\\lib\\site-packages (from gitpython!=3.1.19,<4,>=3.0.7->streamlit) (4.0.12)\n",
      "Requirement already satisfied: smmap<6,>=3.0.1 in c:\\users\\rafimbi\\appdata\\local\\programs\\python\\python313\\lib\\site-packages (from gitdb<5,>=4.0.1->gitpython!=3.1.19,<4,>=3.0.7->streamlit) (5.0.2)\n",
      "Requirement already satisfied: jsonschema-specifications>=2023.03.6 in c:\\users\\rafimbi\\appdata\\local\\programs\\python\\python313\\lib\\site-packages (from jsonschema>=3.0->altair!=5.4.0,!=5.4.1,<6,>=4.0->streamlit) (2025.9.1)\n",
      "Requirement already satisfied: referencing>=0.28.4 in c:\\users\\rafimbi\\appdata\\local\\programs\\python\\python313\\lib\\site-packages (from jsonschema>=3.0->altair!=5.4.0,!=5.4.1,<6,>=4.0->streamlit) (0.37.0)\n",
      "Requirement already satisfied: rpds-py>=0.7.1 in c:\\users\\rafimbi\\appdata\\local\\programs\\python\\python313\\lib\\site-packages (from jsonschema>=3.0->altair!=5.4.0,!=5.4.1,<6,>=4.0->streamlit) (0.27.1)\n",
      "Requirement already satisfied: annotated-types>=0.6.0 in c:\\users\\rafimbi\\appdata\\local\\programs\\python\\python313\\lib\\site-packages (from pydantic>=2->ydata-profiling) (0.7.0)\n",
      "Requirement already satisfied: pydantic-core==2.41.3 in c:\\users\\rafimbi\\appdata\\local\\programs\\python\\python313\\lib\\site-packages (from pydantic>=2->ydata-profiling) (2.41.3)\n",
      "Requirement already satisfied: typing-inspection>=0.4.2 in c:\\users\\rafimbi\\appdata\\local\\programs\\python\\python313\\lib\\site-packages (from pydantic>=2->ydata-profiling) (0.4.2)\n",
      "Requirement already satisfied: six>=1.5 in c:\\users\\rafimbi\\appdata\\roaming\\python\\python313\\site-packages (from python-dateutil>=2.8.2->pandas) (1.17.0)\n",
      "Note: you may need to restart the kernel to use updated packages.\n"
     ]
    }
   ],
   "source": [
    "pip install pandas numpy matplotlib seaborn scikit-learn ydata-profiling streamlit joblib\n"
   ]
  },
  {
   "cell_type": "code",
   "execution_count": 14,
   "id": "9ec1b397",
   "metadata": {},
   "outputs": [],
   "source": [
    "# File paths\n",
    "DATA_PATH = \"Financial_inclusion_dataset.csv\"\n",
    "MODEL_OUT = \"financial_model.pkl\"\n",
    "SAMPLE_OUT = \"sample_input.csv\""
   ]
  },
  {
   "cell_type": "code",
   "execution_count": 15,
   "id": "ab3e0cdb",
   "metadata": {},
   "outputs": [],
   "source": [
    "def main():\n",
    "    print(\"📥 Loading dataset...\")\n",
    "    df = pd.read_csv(DATA_PATH)\n",
    "    print(df.head())"
   ]
  },
  {
   "cell_type": "code",
   "execution_count": 18,
   "id": "b1960784",
   "metadata": {},
   "outputs": [
    {
     "name": "stdout",
     "output_type": "stream",
     "text": [
      "\n",
      "🔍 Dataset Info:\n"
     ]
    }
   ],
   "source": [
    "# Basic info\n",
    "print(\"\\n🔍 Dataset Info:\")\n",
    "  "
   ]
  },
  {
   "cell_type": "code",
   "execution_count": 22,
   "id": "37649da7",
   "metadata": {},
   "outputs": [
    {
     "name": "stdout",
     "output_type": "stream",
     "text": [
      "❌ File not found: Financial_inclusion_dataset.csv\n"
     ]
    }
   ],
   "source": [
    "# Basic info\n",
    "import pandas as pd\n",
    "import os\n",
    "\n",
    "if not os.path.exists(DATA_PATH):\n",
    "\tprint(f\"❌ File not found: {DATA_PATH}\")\n",
    "else:\n",
    "\tdf = pd.read_csv(DATA_PATH)\n",
    "\tprint(df.info())\n",
    "   "
   ]
  },
  {
   "cell_type": "code",
   "execution_count": 23,
   "id": "b3538ebf",
   "metadata": {},
   "outputs": [],
   "source": [
    "# Path to your dataset\n",
    "DATA_PATH = \"Financial_inclusion_dataset.csv\""
   ]
  },
  {
   "cell_type": "code",
   "execution_count": 25,
   "id": "651e84f3",
   "metadata": {},
   "outputs": [
    {
     "name": "stdout",
     "output_type": "stream",
     "text": [
      "\n",
      "🔹 First 5 rows:\n"
     ]
    }
   ],
   "source": [
    "   print(\"\\n🔹 First 5 rows:\")"
   ]
  },
  {
   "cell_type": "code",
   "execution_count": 34,
   "id": "a39bbc26",
   "metadata": {},
   "outputs": [
    {
     "name": "stderr",
     "output_type": "stream",
     "text": [
      "python: can't open file 'c:\\\\Users\\\\Rafimbi\\\\Downloads\\\\RydaMtaani\\\\train_model.py': [Errno 2] No such file or directory\n"
     ]
    }
   ],
   "source": [
    "!python train_model.py\n"
   ]
  },
  {
   "cell_type": "code",
   "execution_count": 35,
   "id": "3d98fcc8",
   "metadata": {},
   "outputs": [],
   "source": [
    "# app.py\n",
    "import streamlit as st\n",
    "import pandas as pd\n",
    "import joblib"
   ]
  },
  {
   "cell_type": "code",
   "execution_count": 37,
   "id": "f5016a58",
   "metadata": {},
   "outputs": [
    {
     "name": "stdout",
     "output_type": "stream",
     "text": [
      "❌ Model file not found: financial_model.pkl\n"
     ]
    }
   ],
   "source": [
    "import os\n",
    "\n",
    "# Load model\n",
    "if os.path.exists(MODEL_OUT):\n",
    "\tmodel = joblib.load(MODEL_OUT)\n",
    "\tprint(\"✅ Model loaded successfully.\")\n",
    "else:\n",
    "\tprint(f\"❌ Model file not found: {MODEL_OUT}\")"
   ]
  },
  {
   "cell_type": "code",
   "execution_count": 38,
   "id": "42e74f4c",
   "metadata": {},
   "outputs": [
    {
     "name": "stderr",
     "output_type": "stream",
     "text": [
      "2025-10-16 19:32:15.887 WARNING streamlit.runtime.scriptrunner_utils.script_run_context: Thread 'MainThread': missing ScriptRunContext! This warning can be ignored when running in bare mode.\n",
      "2025-10-16 19:32:16.464 \n",
      "  \u001b[33m\u001b[1mWarning:\u001b[0m to view this Streamlit app on a browser, run it with the following\n",
      "  command:\n",
      "\n",
      "    streamlit run C:\\Users\\Rafimbi\\AppData\\Roaming\\Python\\Python313\\site-packages\\ipykernel_launcher.py [ARGUMENTS]\n",
      "2025-10-16 19:32:16.465 Thread 'MainThread': missing ScriptRunContext! This warning can be ignored when running in bare mode.\n",
      "2025-10-16 19:32:16.467 Thread 'MainThread': missing ScriptRunContext! This warning can be ignored when running in bare mode.\n"
     ]
    },
    {
     "data": {
      "text/plain": [
       "DeltaGenerator()"
      ]
     },
     "execution_count": 38,
     "metadata": {},
     "output_type": "execute_result"
    }
   ],
   "source": [
    "st.title(\"💰 Financial Inclusion Predictor\")"
   ]
  },
  {
   "cell_type": "code",
   "execution_count": 39,
   "id": "e3420b86",
   "metadata": {},
   "outputs": [
    {
     "name": "stderr",
     "output_type": "stream",
     "text": [
      "2025-10-16 19:32:34.636 Thread 'MainThread': missing ScriptRunContext! This warning can be ignored when running in bare mode.\n",
      "2025-10-16 19:32:34.639 Thread 'MainThread': missing ScriptRunContext! This warning can be ignored when running in bare mode.\n",
      "2025-10-16 19:32:34.641 Thread 'MainThread': missing ScriptRunContext! This warning can be ignored when running in bare mode.\n"
     ]
    }
   ],
   "source": [
    "st.write(\"Enter demographic details to predict if an individual has a bank account.\")"
   ]
  },
  {
   "cell_type": "code",
   "execution_count": 43,
   "id": "2e5ff4d9",
   "metadata": {},
   "outputs": [
    {
     "name": "stdout",
     "output_type": "stream",
     "text": [
      "c:\\Users\\Rafimbi\\Downloads\\RydaMtaani\n"
     ]
    }
   ],
   "source": [
    "print(os.getcwd()) "
   ]
  },
  {
   "cell_type": "code",
   "execution_count": 44,
   "id": "1cfb4e92",
   "metadata": {},
   "outputs": [
    {
     "name": "stdout",
     "output_type": "stream",
     "text": [
      "['.git', 'financial_inclusion_model.pkl', 'RydaMtaani', 'third.txt']\n"
     ]
    }
   ],
   "source": [
    "print(os.listdir())"
   ]
  },
  {
   "cell_type": "code",
   "execution_count": 45,
   "id": "699e9a3a",
   "metadata": {},
   "outputs": [],
   "source": [
    "import pandas as pd"
   ]
  },
  {
   "cell_type": "code",
   "execution_count": 47,
   "id": "648bde27",
   "metadata": {},
   "outputs": [],
   "source": [
    "df = pd.read_csv(r\"C:\\Users\\Rafimbi\\Downloads\\Financial_inclusion_dataset.csv\")\n"
   ]
  },
  {
   "cell_type": "code",
   "execution_count": 48,
   "id": "54965e1a",
   "metadata": {},
   "outputs": [],
   "source": [
    "sample = df.sample(1, random_state=42)"
   ]
  },
  {
   "cell_type": "code",
   "execution_count": 49,
   "id": "8038806d",
   "metadata": {},
   "outputs": [],
   "source": [
    "sample.to_csv(\"sample_input.csv\", index=False)"
   ]
  },
  {
   "cell_type": "code",
   "execution_count": 50,
   "id": "41b13191",
   "metadata": {},
   "outputs": [
    {
     "name": "stdout",
     "output_type": "stream",
     "text": [
      "✅ Sample input created successfully: sample_input.csv\n"
     ]
    }
   ],
   "source": [
    "print(\"✅ Sample input created successfully: sample_input.csv\")"
   ]
  },
  {
   "cell_type": "code",
   "execution_count": 51,
   "id": "4d280c21",
   "metadata": {},
   "outputs": [
    {
     "name": "stdout",
     "output_type": "stream",
     "text": [
      "     country  year      uniqueid bank_account location_type cellphone_access  \\\n",
      "6692  Rwanda  2016  uniqueid_625           No         Rural              Yes   \n",
      "\n",
      "      household_size  age_of_respondent gender_of_respondent  \\\n",
      "6692               7                 40                 Male   \n",
      "\n",
      "     relationship_with_head           marital_status      education_level  \\\n",
      "6692      Head of Household  Married/Living together  No formal education   \n",
      "\n",
      "                 job_type  \n",
      "6692  Informally employed  \n"
     ]
    }
   ],
   "source": [
    "print(sample)"
   ]
  },
  {
   "cell_type": "code",
   "execution_count": 54,
   "id": "9daedac3",
   "metadata": {},
   "outputs": [
    {
     "name": "stdout",
     "output_type": "stream",
     "text": [
      "C:\\Users\\Rafimbi\\Documents\\streamlit\n"
     ]
    }
   ],
   "source": [
    "cd \"C:\\Users\\Rafimbi\\Documents\\streamlit\"\n"
   ]
  },
  {
   "cell_type": "code",
   "execution_count": 56,
   "id": "32e07527",
   "metadata": {},
   "outputs": [
    {
     "name": "stderr",
     "output_type": "stream",
     "text": [
      "Usage: streamlit run [OPTIONS] TARGET [ARGS]...\n",
      "Try 'streamlit run --help' for help.\n",
      "\n",
      "Error: Invalid value: File does not exist: app.py\n"
     ]
    }
   ],
   "source": [
    "!streamlit run app.py\n"
   ]
  }
 ],
 "metadata": {
  "kernelspec": {
   "display_name": "Python 3",
   "language": "python",
   "name": "python3"
  },
  "language_info": {
   "codemirror_mode": {
    "name": "ipython",
    "version": 3
   },
   "file_extension": ".py",
   "mimetype": "text/x-python",
   "name": "python",
   "nbconvert_exporter": "python",
   "pygments_lexer": "ipython3",
   "version": "3.13.3"
  }
 },
 "nbformat": 4,
 "nbformat_minor": 5
}
