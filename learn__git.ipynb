{
 "cells": [
  {
   "cell_type": "code",
   "execution_count": 1,
   "id": "a22a5740",
   "metadata": {},
   "outputs": [],
   "source": [
    "import os"
   ]
  },
  {
   "cell_type": "code",
   "execution_count": 7,
   "id": "216e293c",
   "metadata": {},
   "outputs": [],
   "source": [
    "#Change directory into learn_git\n",
    "os.chdir(\"C:\\\\Users\\\\Rafimbi\\\\Documents\\\\learn_git\")"
   ]
  },
  {
   "cell_type": "code",
   "execution_count": 5,
   "id": "3676d6ef",
   "metadata": {},
   "outputs": [
    {
     "name": "stdout",
     "output_type": "stream",
     "text": [
      "C:\\Users\\Rafimbi\\Documents\\learn_git\n"
     ]
    }
   ],
   "source": [
    "print(os.getcwd())"
   ]
  },
  {
   "cell_type": "code",
   "execution_count": 9,
   "id": "a58c0856",
   "metadata": {},
   "outputs": [],
   "source": [
    "#Create a file called third.txt\n",
    "!echo \"This is the third file\" > third.txt"
   ]
  }
 ],
 "metadata": {
  "kernelspec": {
   "display_name": "Python 3",
   "language": "python",
   "name": "python3"
  },
  "language_info": {
   "codemirror_mode": {
    "name": "ipython",
    "version": 3
   },
   "file_extension": ".py",
   "mimetype": "text/x-python",
   "name": "python",
   "nbconvert_exporter": "python",
   "pygments_lexer": "ipython3",
   "version": "3.13.3"
  }
 },
 "nbformat": 4,
 "nbformat_minor": 5
}
